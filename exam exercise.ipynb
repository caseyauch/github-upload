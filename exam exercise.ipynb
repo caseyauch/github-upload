{
 "cells": [
  {
   "cell_type": "code",
   "execution_count": 1,
   "metadata": {},
   "outputs": [
    {
     "ename": "SyntaxError",
     "evalue": "Missing parentheses in call to 'print'. Did you mean print(grade)? (<ipython-input-1-ee6d67baabed>, line 5)",
     "output_type": "error",
     "traceback": [
      "\u001b[0;36m  File \u001b[0;32m\"<ipython-input-1-ee6d67baabed>\"\u001b[0;36m, line \u001b[0;32m5\u001b[0m\n\u001b[0;31m    print grade\u001b[0m\n\u001b[0m              ^\u001b[0m\n\u001b[0;31mSyntaxError\u001b[0m\u001b[0;31m:\u001b[0m Missing parentheses in call to 'print'. Did you mean print(grade)?\n"
     ]
    }
   ],
   "source": [
    "grades = [100, 100, 90, 40, 80, 100, 85, 70, 90, 65, 90, 85, 50.5]\n",
    "\n",
    "def print_grades(grades_input):\n",
    "  for grade in grades_input:\n",
    "    print grade\n",
    "\n",
    "def grades_sum(scores):\n",
    "  total = 0\n",
    "  for score in scores: \n",
    "    total += score\n",
    "  return total\n",
    "    \n",
    "def grades_average(grades_input):\n",
    "  sum_of_grades = grades_sum(grades_input)\n",
    "  average = sum_of_grades / float(len(grades_input))\n",
    "  return average\n",
    "\n",
    "def grades_variance(scores):\n",
    "  average = grades_average(scores)\n",
    "  variance = 0\n",
    "  for score in scores:\n",
    "    variance = variance + (average - score) ** 2\n",
    "  result = variance / len(scores)\n",
    "  return result\n",
    "\n",
    "print grades_variance(grades)\n",
    "\n",
    "def grades_std_deviation(variance):\n",
    "  return variance ** 0.5\n",
    "\n",
    "variance = grades_variance(grades)\n",
    "print grades_std_deviation(variance)\n",
    "\n",
    "print_grades(grades)\n",
    "print grades_sum(grades)\n",
    "print grades_average(grades)"
   ]
  },
  {
   "cell_type": "code",
   "execution_count": null,
   "metadata": {},
   "outputs": [],
   "source": []
  }
 ],
 "metadata": {
  "kernelspec": {
   "display_name": "Python 3",
   "language": "python",
   "name": "python3"
  },
  "language_info": {
   "codemirror_mode": {
    "name": "ipython",
    "version": 3
   },
   "file_extension": ".py",
   "mimetype": "text/x-python",
   "name": "python",
   "nbconvert_exporter": "python",
   "pygments_lexer": "ipython3",
   "version": "3.7.1"
  }
 },
 "nbformat": 4,
 "nbformat_minor": 2
}
